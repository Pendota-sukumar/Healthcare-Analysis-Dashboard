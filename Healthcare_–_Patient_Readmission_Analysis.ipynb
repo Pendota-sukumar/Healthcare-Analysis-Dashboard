{
  "nbformat": 4,
  "nbformat_minor": 0,
  "metadata": {
    "colab": {
      "provenance": [],
      "mount_file_id": "1VYNQZFzbueGdf_FqGa43sx1nyEeddJLG",
      "authorship_tag": "ABX9TyNjZZCTxv/M+UmfQI5QzPHQ",
      "include_colab_link": true
    },
    "kernelspec": {
      "name": "python3",
      "display_name": "Python 3"
    },
    "language_info": {
      "name": "python"
    }
  },
  "cells": [
    {
      "cell_type": "markdown",
      "metadata": {
        "id": "view-in-github",
        "colab_type": "text"
      },
      "source": [
        "<a href=\"https://colab.research.google.com/github/Pendota-sukumar/Healthcare-Analysis-Dashboard/blob/main/Healthcare_%E2%80%93_Patient_Readmission_Analysis.ipynb\" target=\"_parent\"><img src=\"https://colab.research.google.com/assets/colab-badge.svg\" alt=\"Open In Colab\"/></a>"
      ]
    },
    {
      "cell_type": "code",
      "execution_count": null,
      "metadata": {
        "colab": {
          "base_uri": "https://localhost:8080/"
        },
        "id": "A-gEuPKKoDyh",
        "outputId": "0335f634-b818-4209-c476-581f6c32995f"
      },
      "outputs": [
        {
          "output_type": "stream",
          "name": "stdout",
          "text": [
            "(101766, 51)\n",
            "   id  encounter_id  patient_nbr             race  gender      age weight  \\\n",
            "0   1       2278392      8222157        Caucasian  Female   [0-10)      ?   \n",
            "1   2        149190     55629189        Caucasian  Female  [10-20)      ?   \n",
            "2   3         64410     86047875  AfricanAmerican  Female  [20-30)      ?   \n",
            "3   4        500364     82442376        Caucasian    Male  [30-40)      ?   \n",
            "4   5         16680     42519267        Caucasian    Male  [40-50)      ?   \n",
            "\n",
            "   admission_type_id  discharge_disposition_id  admission_source_id  ...  \\\n",
            "0                  6                        25                    1  ...   \n",
            "1                  1                         1                    7  ...   \n",
            "2                  1                         1                    7  ...   \n",
            "3                  1                         1                    7  ...   \n",
            "4                  1                         1                    7  ...   \n",
            "\n",
            "   citoglipton insulin glyburide.metformin  glipizide.metformin  \\\n",
            "0           No      No                  No                   No   \n",
            "1           No      Up                  No                   No   \n",
            "2           No      No                  No                   No   \n",
            "3           No      Up                  No                   No   \n",
            "4           No  Steady                  No                   No   \n",
            "\n",
            "   glimepiride.pioglitazone  metformin.rosiglitazone  metformin.pioglitazone  \\\n",
            "0                        No                       No                      No   \n",
            "1                        No                       No                      No   \n",
            "2                        No                       No                      No   \n",
            "3                        No                       No                      No   \n",
            "4                        No                       No                      No   \n",
            "\n",
            "   change  diabetesMed readmitted  \n",
            "0      No           No         NO  \n",
            "1      Ch          Yes        >30  \n",
            "2      No          Yes         NO  \n",
            "3      Ch          Yes         NO  \n",
            "4      Ch          Yes         NO  \n",
            "\n",
            "[5 rows x 51 columns]\n"
          ]
        }
      ],
      "source": [
        "import pandas as pd\n",
        "\n",
        "\n",
        "# File path\n",
        "file_path = \"/content/drive/MyDrive/Projects/Data files/diabetes.csv\"\n",
        "\n",
        "# Load dataset\n",
        "df = pd.read_csv(file_path)\n",
        "\n",
        "# Quick preview\n",
        "print(df.shape)\n",
        "print(df.head())\n"
      ]
    },
    {
      "cell_type": "markdown",
      "source": [
        "**Data Cleaning & Feature Engineering**"
      ],
      "metadata": {
        "id": "nHRm2l3XEZYd"
      }
    },
    {
      "cell_type": "code",
      "source": [
        "import pandas as pd\n",
        "\n",
        "# Reload dataset\n",
        "file_path = \"/content/drive/MyDrive/Projects/Data files/diabetes.csv\"\n",
        "df = pd.read_csv(file_path)\n",
        "# -------------------\n",
        "# 1. Drop duplicates\n",
        "# -------------------\n",
        "df.drop_duplicates(inplace=True)\n",
        "\n",
        "# -------------------\n",
        "# 2. Handle missing values\n",
        "# Many fields have \"?\" → replace with NaN\n",
        "# -------------------\n",
        "df = df.replace(\"?\", pd.NA)\n",
        "\n",
        "# Fill categorical NAs with \"Unknown\"\n",
        "for col in df.select_dtypes(include=\"object\").columns:\n",
        "    df[col].fillna(\"Unknown\", inplace=True)\n",
        "\n",
        "# Fill numeric NAs with 0\n",
        "for col in df.select_dtypes(include=\"number\").columns:\n",
        "    df[col].fillna(0, inplace=True)\n",
        "\n",
        "# -------------------\n",
        "# 3. Simplify readmitted column\n",
        "# -------------------\n",
        "df['readmitted'] = df['readmitted'].replace({\n",
        "    'NO': 'No',\n",
        "    '>30': 'Readmit >30 days',\n",
        "    '<30': 'Readmit <30 days'\n",
        "})\n",
        "\n",
        "# Create a binary column for ML\n",
        "df['is_readmitted'] = df['readmitted'].apply(lambda x: 1 if x in ['Readmit >30 days','Readmit <30 days'] else 0)\n",
        "\n",
        "# -------------------\n",
        "# 4. Create new features\n",
        "# -------------------\n",
        "# Age group without brackets\n",
        "df['age_clean'] = df['age'].str.replace(\"[\\[\\)\\-]\", \"\", regex=True)\n",
        "\n",
        "# Medication load\n",
        "df['total_medications'] = df['num_medications'] + df['num_procedures']\n",
        "\n",
        "# Encounter outcome: 1 = discharged, 0 = other\n",
        "df['discharged_home'] = df['discharge_disposition_id'].apply(lambda x: 1 if x == 1 else 0)\n",
        "\n",
        "# -------------------\n",
        "# 5. Save cleaned dataset\n",
        "# -------------------\n",
        "output_file = \"/content/drive/MyDrive/Projects/Data files/Cleaned_Diabetes_Readmission.xlsx\"\n",
        "df.to_excel(output_file, index=False)\n",
        "\n",
        "print(\"✅ Cleaned dataset saved at:\", output_file)\n"
      ],
      "metadata": {
        "id": "ETceyoyqo--g",
        "colab": {
          "base_uri": "https://localhost:8080/"
        },
        "collapsed": true,
        "outputId": "62c9026d-d368-40da-b4e2-964ad9090ec7"
      },
      "execution_count": null,
      "outputs": [
        {
          "output_type": "stream",
          "name": "stderr",
          "text": [
            "<>:41: SyntaxWarning: invalid escape sequence '\\['\n",
            "<>:41: SyntaxWarning: invalid escape sequence '\\['\n",
            "/tmp/ipython-input-2034433670.py:41: SyntaxWarning: invalid escape sequence '\\['\n",
            "  df['age_clean'] = df['age'].str.replace(\"[\\[\\)\\-]\", \"\", regex=True)\n",
            "/tmp/ipython-input-2034433670.py:19: FutureWarning: A value is trying to be set on a copy of a DataFrame or Series through chained assignment using an inplace method.\n",
            "The behavior will change in pandas 3.0. This inplace method will never work because the intermediate object on which we are setting values always behaves as a copy.\n",
            "\n",
            "For example, when doing 'df[col].method(value, inplace=True)', try using 'df.method({col: value}, inplace=True)' or df[col] = df[col].method(value) instead, to perform the operation inplace on the original object.\n",
            "\n",
            "\n",
            "  df[col].fillna(\"Unknown\", inplace=True)\n",
            "/tmp/ipython-input-2034433670.py:23: FutureWarning: A value is trying to be set on a copy of a DataFrame or Series through chained assignment using an inplace method.\n",
            "The behavior will change in pandas 3.0. This inplace method will never work because the intermediate object on which we are setting values always behaves as a copy.\n",
            "\n",
            "For example, when doing 'df[col].method(value, inplace=True)', try using 'df.method({col: value}, inplace=True)' or df[col] = df[col].method(value) instead, to perform the operation inplace on the original object.\n",
            "\n",
            "\n",
            "  df[col].fillna(0, inplace=True)\n"
          ]
        },
        {
          "output_type": "stream",
          "name": "stdout",
          "text": [
            "✅ Cleaned dataset saved at: /content/drive/MyDrive/Projects/Data files/Cleaned_Diabetes_Readmission.xlsx\n"
          ]
        }
      ]
    },
    {
      "cell_type": "code",
      "source": [],
      "metadata": {
        "id": "x0Rex93xFHjw"
      },
      "execution_count": null,
      "outputs": []
    }
  ]
}